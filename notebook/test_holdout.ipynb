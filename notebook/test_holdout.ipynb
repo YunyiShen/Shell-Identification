{
 "cells": [
  {
   "attachments": {},
   "cell_type": "markdown",
   "metadata": {},
   "source": [
    "# Test with hold-out set"
   ]
  },
  {
   "cell_type": "code",
   "execution_count": null,
   "metadata": {},
   "outputs": [],
   "source": [
    "import os\n",
    "import glob\n",
    "import json\n",
    "from os.path import join\n",
    "\n",
    "import torchvision.datasets as datasets\n",
    "import torchvision.transforms as transforms\n",
    "import timm\n",
    "import torch\n",
    "import torch.nn as nn\n",
    "import torch.optim as optim\n",
    "from torch.utils.data import DataLoader\n",
    "from torch.utils.data import Dataset\n",
    "import random\n",
    "import json\n",
    "\n",
    "from ShellRec.data_utils.prepare_photos import get_img_graph, split_graph\n",
    "from ShellRec.model import TurtleDiff \n",
    "from ShellRec.dataset import TurtlePair \n",
    "from ShellRec.inference import test_model\n",
    "\n",
    "device = torch.device('cuda' if torch.cuda.is_available() else 'cpu')   "
   ]
  },
  {
   "cell_type": "code",
   "execution_count": null,
   "metadata": {},
   "outputs": [],
   "source": [
    "transform_test = transforms.Compose([\n",
    "        transforms.Resize((384,384)),\n",
    "        transforms.ToTensor(),\n",
    "        transforms.Normalize(mean=[.5,.5,.5], \n",
    "                             std=[0.5, 0.5, 0.5])\n",
    "])\n",
    "\n",
    "test_set = TurtlePair(data_file='../dataset/test.json',transform=transform_test)\n",
    "test_loader = DataLoader(test_set, batch_size=32, shuffle=False)\n",
    "\n",
    "holdout_set = TurtlePair(data_file='../dataset/BoxTurtle_holdout.json',transform=transform_test)\n",
    "holdout_loader = DataLoader(holdout_set, batch_size=32, shuffle=False)"
   ]
  },
  {
   "attachments": {},
   "cell_type": "markdown",
   "metadata": {},
   "source": [
    "## ViT only head"
   ]
  },
  {
   "attachments": {},
   "cell_type": "markdown",
   "metadata": {},
   "source": [
    "### pooled head"
   ]
  },
  {
   "cell_type": "code",
   "execution_count": null,
   "metadata": {},
   "outputs": [],
   "source": [
    "from ShellRec.model import TurtleDiffPool\n",
    "model = TurtleDiffPool('vit_base_patch16_384').to(device)\n",
    "model.load_state_dict(torch.load('vit_base_patch16_384-pool_turtle_identifier.pth', \n",
    "                                 map_location = device))\n",
    "\n",
    "model.eval()\n",
    "test_results = test_model(model, test_loader, device)\n",
    "holdout_results = test_model(model, holdout_loader, device)\n",
    "with open('vit_base_patch16_384_pool_test.json', 'w') as f:\n",
    "    json.dump(test_results, f)\n",
    "\n",
    "with open('vit_base_patch16_384_pool_holdout.json', 'w') as f:\n",
    "    json.dump(holdout_results, f)\n"
   ]
  },
  {
   "attachments": {},
   "cell_type": "markdown",
   "metadata": {},
   "source": [
    "### simple difference head"
   ]
  },
  {
   "cell_type": "code",
   "execution_count": null,
   "metadata": {},
   "outputs": [],
   "source": [
    "from ShellRec.model import TurtleDiff\n",
    "model = TurtleDiff('vit_base_patch16_384').to(device)\n",
    "model.load_state_dict(torch.load('vit_base_patch16_384_turtle_identifier.pth', \n",
    "                                 map_location = device))\n",
    "\n",
    "model.eval()\n",
    "test_results = test_model(model, test_loader, device)\n",
    "holdout_results = test_model(model, holdout_loader, device)\n",
    "with open('vit_base_patch16_384_test.json', 'w') as f:\n",
    "    json.dump(test_results, f)\n",
    "\n",
    "with open('vit_base_patch16_384_holdout.json', 'w') as f:\n",
    "    json.dump(holdout_results, f)"
   ]
  },
  {
   "attachments": {},
   "cell_type": "markdown",
   "metadata": {},
   "source": [
    "## ViT with last attention "
   ]
  },
  {
   "cell_type": "code",
   "execution_count": null,
   "metadata": {},
   "outputs": [],
   "source": [
    "from ShellRec.model import TurtleDiffAttnPool\n",
    "model = TurtleDiffAttnPool('vit_base_patch16_384').to(device)\n",
    "model.load_state_dict(torch.load('vit_base_patch16_384-attn-pool_turtle_identifier.pth', \n",
    "                                 map_location = device))\n",
    "\n",
    "model.eval()\n",
    "test_results = test_model(model, test_loader, device)\n",
    "holdout_results = test_model(model, holdout_loader, device)\n",
    "with open('vit_base_patch16_384_attn_pool_test.json', 'w') as f:\n",
    "    json.dump(test_results, f)\n",
    "\n",
    "with open('vit_base_patch16_384_attn_pool_holdout.json', 'w') as f:\n",
    "    json.dump(holdout_results, f)"
   ]
  }
 ],
 "metadata": {
  "language_info": {
   "name": "python"
  },
  "orig_nbformat": 4
 },
 "nbformat": 4,
 "nbformat_minor": 2
}
